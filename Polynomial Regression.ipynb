{
 "cells": [
  {
   "cell_type": "code",
   "execution_count": 1,
   "id": "65015c9b",
   "metadata": {
    "scrolled": true
   },
   "outputs": [
    {
     "data": {
      "text/html": [
       "<div>\n",
       "<style scoped>\n",
       "    .dataframe tbody tr th:only-of-type {\n",
       "        vertical-align: middle;\n",
       "    }\n",
       "\n",
       "    .dataframe tbody tr th {\n",
       "        vertical-align: top;\n",
       "    }\n",
       "\n",
       "    .dataframe thead th {\n",
       "        text-align: right;\n",
       "    }\n",
       "</style>\n",
       "<table border=\"1\" class=\"dataframe\">\n",
       "  <thead>\n",
       "    <tr style=\"text-align: right;\">\n",
       "      <th></th>\n",
       "      <th>Var_X</th>\n",
       "      <th>Var_Y</th>\n",
       "    </tr>\n",
       "  </thead>\n",
       "  <tbody>\n",
       "    <tr>\n",
       "      <th>0</th>\n",
       "      <td>-0.33532</td>\n",
       "      <td>6.66854</td>\n",
       "    </tr>\n",
       "    <tr>\n",
       "      <th>1</th>\n",
       "      <td>0.02160</td>\n",
       "      <td>3.86398</td>\n",
       "    </tr>\n",
       "    <tr>\n",
       "      <th>2</th>\n",
       "      <td>-1.19438</td>\n",
       "      <td>5.16161</td>\n",
       "    </tr>\n",
       "    <tr>\n",
       "      <th>3</th>\n",
       "      <td>-0.65046</td>\n",
       "      <td>8.43823</td>\n",
       "    </tr>\n",
       "    <tr>\n",
       "      <th>4</th>\n",
       "      <td>-0.28001</td>\n",
       "      <td>5.57201</td>\n",
       "    </tr>\n",
       "  </tbody>\n",
       "</table>\n",
       "</div>"
      ],
      "text/plain": [
       "     Var_X    Var_Y\n",
       "0 -0.33532  6.66854\n",
       "1  0.02160  3.86398\n",
       "2 -1.19438  5.16161\n",
       "3 -0.65046  8.43823\n",
       "4 -0.28001  5.57201"
      ]
     },
     "execution_count": 1,
     "metadata": {},
     "output_type": "execute_result"
    }
   ],
   "source": [
    "# TODO: Add import statements\n",
    "import numpy as np\n",
    "import pandas as pd\n",
    "from sklearn.linear_model import LinearRegression\n",
    "from sklearn.preprocessing import PolynomialFeatures\n",
    "\n",
    "train_data = pd.read_csv('data_polynomial.csv')\n",
    "train_data.head()"
   ]
  },
  {
   "cell_type": "code",
   "execution_count": 2,
   "id": "ad9dca53",
   "metadata": {},
   "outputs": [
    {
     "data": {
      "text/plain": [
       "array([-0.33532,  0.0216 , -1.19438, -0.65046, -0.28001,  1.93258,\n",
       "        1.2262 ,  0.74727,  3.32853,  2.87457, -1.48662,  0.37629,\n",
       "        1.43918,  0.24183, -2.7914 ,  1.08176,  2.81555,  0.54924,\n",
       "        2.36449, -1.01925])"
      ]
     },
     "execution_count": 2,
     "metadata": {},
     "output_type": "execute_result"
    }
   ],
   "source": [
    "X = train_data['Var_X'].values\n",
    "X"
   ]
  },
  {
   "cell_type": "code",
   "execution_count": 3,
   "id": "1d1cd955",
   "metadata": {},
   "outputs": [
    {
     "data": {
      "text/plain": [
       "array([[-0.33532],\n",
       "       [ 0.0216 ],\n",
       "       [-1.19438],\n",
       "       [-0.65046],\n",
       "       [-0.28001],\n",
       "       [ 1.93258],\n",
       "       [ 1.2262 ],\n",
       "       [ 0.74727],\n",
       "       [ 3.32853],\n",
       "       [ 2.87457],\n",
       "       [-1.48662],\n",
       "       [ 0.37629],\n",
       "       [ 1.43918],\n",
       "       [ 0.24183],\n",
       "       [-2.7914 ],\n",
       "       [ 1.08176],\n",
       "       [ 2.81555],\n",
       "       [ 0.54924],\n",
       "       [ 2.36449],\n",
       "       [-1.01925]])"
      ]
     },
     "execution_count": 3,
     "metadata": {},
     "output_type": "execute_result"
    }
   ],
   "source": [
    "X = train_data['Var_X'].values.reshape(-1, 1)\n",
    "X"
   ]
  },
  {
   "cell_type": "code",
   "execution_count": 13,
   "id": "d92d25d5",
   "metadata": {},
   "outputs": [
    {
     "data": {
      "text/html": [
       "<div>\n",
       "<style scoped>\n",
       "    .dataframe tbody tr th:only-of-type {\n",
       "        vertical-align: middle;\n",
       "    }\n",
       "\n",
       "    .dataframe tbody tr th {\n",
       "        vertical-align: top;\n",
       "    }\n",
       "\n",
       "    .dataframe thead th {\n",
       "        text-align: right;\n",
       "    }\n",
       "</style>\n",
       "<table border=\"1\" class=\"dataframe\">\n",
       "  <thead>\n",
       "    <tr style=\"text-align: right;\">\n",
       "      <th></th>\n",
       "      <th>0</th>\n",
       "    </tr>\n",
       "  </thead>\n",
       "  <tbody>\n",
       "    <tr>\n",
       "      <th>0</th>\n",
       "      <td>-0.33532</td>\n",
       "    </tr>\n",
       "    <tr>\n",
       "      <th>1</th>\n",
       "      <td>0.02160</td>\n",
       "    </tr>\n",
       "    <tr>\n",
       "      <th>2</th>\n",
       "      <td>-1.19438</td>\n",
       "    </tr>\n",
       "    <tr>\n",
       "      <th>3</th>\n",
       "      <td>-0.65046</td>\n",
       "    </tr>\n",
       "    <tr>\n",
       "      <th>4</th>\n",
       "      <td>-0.28001</td>\n",
       "    </tr>\n",
       "    <tr>\n",
       "      <th>5</th>\n",
       "      <td>1.93258</td>\n",
       "    </tr>\n",
       "    <tr>\n",
       "      <th>6</th>\n",
       "      <td>1.22620</td>\n",
       "    </tr>\n",
       "    <tr>\n",
       "      <th>7</th>\n",
       "      <td>0.74727</td>\n",
       "    </tr>\n",
       "    <tr>\n",
       "      <th>8</th>\n",
       "      <td>3.32853</td>\n",
       "    </tr>\n",
       "    <tr>\n",
       "      <th>9</th>\n",
       "      <td>2.87457</td>\n",
       "    </tr>\n",
       "    <tr>\n",
       "      <th>10</th>\n",
       "      <td>-1.48662</td>\n",
       "    </tr>\n",
       "    <tr>\n",
       "      <th>11</th>\n",
       "      <td>0.37629</td>\n",
       "    </tr>\n",
       "    <tr>\n",
       "      <th>12</th>\n",
       "      <td>1.43918</td>\n",
       "    </tr>\n",
       "    <tr>\n",
       "      <th>13</th>\n",
       "      <td>0.24183</td>\n",
       "    </tr>\n",
       "    <tr>\n",
       "      <th>14</th>\n",
       "      <td>-2.79140</td>\n",
       "    </tr>\n",
       "    <tr>\n",
       "      <th>15</th>\n",
       "      <td>1.08176</td>\n",
       "    </tr>\n",
       "    <tr>\n",
       "      <th>16</th>\n",
       "      <td>2.81555</td>\n",
       "    </tr>\n",
       "    <tr>\n",
       "      <th>17</th>\n",
       "      <td>0.54924</td>\n",
       "    </tr>\n",
       "    <tr>\n",
       "      <th>18</th>\n",
       "      <td>2.36449</td>\n",
       "    </tr>\n",
       "    <tr>\n",
       "      <th>19</th>\n",
       "      <td>-1.01925</td>\n",
       "    </tr>\n",
       "  </tbody>\n",
       "</table>\n",
       "</div>"
      ],
      "text/plain": [
       "          0\n",
       "0  -0.33532\n",
       "1   0.02160\n",
       "2  -1.19438\n",
       "3  -0.65046\n",
       "4  -0.28001\n",
       "5   1.93258\n",
       "6   1.22620\n",
       "7   0.74727\n",
       "8   3.32853\n",
       "9   2.87457\n",
       "10 -1.48662\n",
       "11  0.37629\n",
       "12  1.43918\n",
       "13  0.24183\n",
       "14 -2.79140\n",
       "15  1.08176\n",
       "16  2.81555\n",
       "17  0.54924\n",
       "18  2.36449\n",
       "19 -1.01925"
      ]
     },
     "execution_count": 13,
     "metadata": {},
     "output_type": "execute_result"
    }
   ],
   "source": [
    "pd.DataFrame(X)"
   ]
  },
  {
   "cell_type": "code",
   "execution_count": 4,
   "id": "63ffa46f",
   "metadata": {},
   "outputs": [
    {
     "data": {
      "text/plain": [
       "(20, 1)"
      ]
     },
     "execution_count": 4,
     "metadata": {},
     "output_type": "execute_result"
    }
   ],
   "source": [
    "X.shape"
   ]
  },
  {
   "cell_type": "code",
   "execution_count": 5,
   "id": "a13d3d06",
   "metadata": {},
   "outputs": [
    {
     "data": {
      "text/plain": [
       "array([  6.66854,   3.86398,   5.16161,   8.43823,   5.57201, -11.1327 ,\n",
       "        -5.31226,  -4.63725,   3.8065 ,  -6.06084,   7.22328,   2.38887,\n",
       "        -7.13415,   2.00412,   4.29794,  -5.86553,  -5.20711,  -3.52863,\n",
       "       -10.16202,   5.31123])"
      ]
     },
     "execution_count": 5,
     "metadata": {},
     "output_type": "execute_result"
    }
   ],
   "source": [
    "y = train_data['Var_Y'].values\n",
    "y"
   ]
  },
  {
   "cell_type": "code",
   "execution_count": 14,
   "id": "cb65c2b9",
   "metadata": {},
   "outputs": [
    {
     "data": {
      "text/html": [
       "<div>\n",
       "<style scoped>\n",
       "    .dataframe tbody tr th:only-of-type {\n",
       "        vertical-align: middle;\n",
       "    }\n",
       "\n",
       "    .dataframe tbody tr th {\n",
       "        vertical-align: top;\n",
       "    }\n",
       "\n",
       "    .dataframe thead th {\n",
       "        text-align: right;\n",
       "    }\n",
       "</style>\n",
       "<table border=\"1\" class=\"dataframe\">\n",
       "  <thead>\n",
       "    <tr style=\"text-align: right;\">\n",
       "      <th></th>\n",
       "      <th>0</th>\n",
       "    </tr>\n",
       "  </thead>\n",
       "  <tbody>\n",
       "    <tr>\n",
       "      <th>0</th>\n",
       "      <td>6.66854</td>\n",
       "    </tr>\n",
       "    <tr>\n",
       "      <th>1</th>\n",
       "      <td>3.86398</td>\n",
       "    </tr>\n",
       "    <tr>\n",
       "      <th>2</th>\n",
       "      <td>5.16161</td>\n",
       "    </tr>\n",
       "    <tr>\n",
       "      <th>3</th>\n",
       "      <td>8.43823</td>\n",
       "    </tr>\n",
       "    <tr>\n",
       "      <th>4</th>\n",
       "      <td>5.57201</td>\n",
       "    </tr>\n",
       "    <tr>\n",
       "      <th>5</th>\n",
       "      <td>-11.13270</td>\n",
       "    </tr>\n",
       "    <tr>\n",
       "      <th>6</th>\n",
       "      <td>-5.31226</td>\n",
       "    </tr>\n",
       "    <tr>\n",
       "      <th>7</th>\n",
       "      <td>-4.63725</td>\n",
       "    </tr>\n",
       "    <tr>\n",
       "      <th>8</th>\n",
       "      <td>3.80650</td>\n",
       "    </tr>\n",
       "    <tr>\n",
       "      <th>9</th>\n",
       "      <td>-6.06084</td>\n",
       "    </tr>\n",
       "    <tr>\n",
       "      <th>10</th>\n",
       "      <td>7.22328</td>\n",
       "    </tr>\n",
       "    <tr>\n",
       "      <th>11</th>\n",
       "      <td>2.38887</td>\n",
       "    </tr>\n",
       "    <tr>\n",
       "      <th>12</th>\n",
       "      <td>-7.13415</td>\n",
       "    </tr>\n",
       "    <tr>\n",
       "      <th>13</th>\n",
       "      <td>2.00412</td>\n",
       "    </tr>\n",
       "    <tr>\n",
       "      <th>14</th>\n",
       "      <td>4.29794</td>\n",
       "    </tr>\n",
       "    <tr>\n",
       "      <th>15</th>\n",
       "      <td>-5.86553</td>\n",
       "    </tr>\n",
       "    <tr>\n",
       "      <th>16</th>\n",
       "      <td>-5.20711</td>\n",
       "    </tr>\n",
       "    <tr>\n",
       "      <th>17</th>\n",
       "      <td>-3.52863</td>\n",
       "    </tr>\n",
       "    <tr>\n",
       "      <th>18</th>\n",
       "      <td>-10.16202</td>\n",
       "    </tr>\n",
       "    <tr>\n",
       "      <th>19</th>\n",
       "      <td>5.31123</td>\n",
       "    </tr>\n",
       "  </tbody>\n",
       "</table>\n",
       "</div>"
      ],
      "text/plain": [
       "           0\n",
       "0    6.66854\n",
       "1    3.86398\n",
       "2    5.16161\n",
       "3    8.43823\n",
       "4    5.57201\n",
       "5  -11.13270\n",
       "6   -5.31226\n",
       "7   -4.63725\n",
       "8    3.80650\n",
       "9   -6.06084\n",
       "10   7.22328\n",
       "11   2.38887\n",
       "12  -7.13415\n",
       "13   2.00412\n",
       "14   4.29794\n",
       "15  -5.86553\n",
       "16  -5.20711\n",
       "17  -3.52863\n",
       "18 -10.16202\n",
       "19   5.31123"
      ]
     },
     "execution_count": 14,
     "metadata": {},
     "output_type": "execute_result"
    }
   ],
   "source": [
    "pd.DataFrame(y)"
   ]
  },
  {
   "cell_type": "code",
   "execution_count": 6,
   "id": "1bc2fcc3",
   "metadata": {},
   "outputs": [
    {
     "data": {
      "text/plain": [
       "(20,)"
      ]
     },
     "execution_count": 6,
     "metadata": {},
     "output_type": "execute_result"
    }
   ],
   "source": [
    "y.shape"
   ]
  },
  {
   "cell_type": "code",
   "execution_count": 7,
   "id": "d4494a28",
   "metadata": {},
   "outputs": [
    {
     "data": {
      "text/plain": [
       "PolynomialFeatures(degree=4)"
      ]
     },
     "execution_count": 7,
     "metadata": {},
     "output_type": "execute_result"
    }
   ],
   "source": [
    "# Create polynomial features\n",
    "# TODO: Create a PolynomialFeatures object, then fit and transform the\n",
    "# predictor feature\n",
    "\n",
    "poly_feat = PolynomialFeatures(degree = 4)   # Manually adjust the degree by looking at the plot result. \n",
    "poly_feat"
   ]
  },
  {
   "cell_type": "code",
   "execution_count": 16,
   "id": "5de55947",
   "metadata": {
    "scrolled": true
   },
   "outputs": [
    {
     "data": {
      "text/plain": [
       "array([[ 1.00000000e+00, -3.35320000e-01,  1.12439502e-01,\n",
       "        -3.77032139e-02,  1.26426417e-02],\n",
       "       [ 1.00000000e+00,  2.16000000e-02,  4.66560000e-04,\n",
       "         1.00776960e-05,  2.17678234e-07],\n",
       "       [ 1.00000000e+00, -1.19438000e+00,  1.42654358e+00,\n",
       "        -1.70383513e+00,  2.03502660e+00],\n",
       "       [ 1.00000000e+00, -6.50460000e-01,  4.23098212e-01,\n",
       "        -2.75208463e-01,  1.79012097e-01],\n",
       "       [ 1.00000000e+00, -2.80010000e-01,  7.84056001e-02,\n",
       "        -2.19543521e-02,  6.14743813e-03],\n",
       "       [ 1.00000000e+00,  1.93258000e+00,  3.73486546e+00,\n",
       "         7.21792628e+00,  1.39492200e+01],\n",
       "       [ 1.00000000e+00,  1.22620000e+00,  1.50356644e+00,\n",
       "         1.84367317e+00,  2.26071204e+00],\n",
       "       [ 1.00000000e+00,  7.47270000e-01,  5.58412453e-01,\n",
       "         4.17284874e-01,  3.11824468e-01],\n",
       "       [ 1.00000000e+00,  3.32853000e+00,  1.10791120e+01,\n",
       "         3.68771565e+01,  1.22746722e+02],\n",
       "       [ 1.00000000e+00,  2.87457000e+00,  8.26315268e+00,\n",
       "         2.37530108e+01,  6.82796923e+01],\n",
       "       [ 1.00000000e+00, -1.48662000e+00,  2.21003902e+00,\n",
       "        -3.28548821e+00,  4.88427249e+00],\n",
       "       [ 1.00000000e+00,  3.76290000e-01,  1.41594164e-01,\n",
       "         5.32804680e-02,  2.00489073e-02],\n",
       "       [ 1.00000000e+00,  1.43918000e+00,  2.07123907e+00,\n",
       "         2.98088585e+00,  4.29003130e+00],\n",
       "       [ 1.00000000e+00,  2.41830000e-01,  5.84817489e-02,\n",
       "         1.41426413e-02,  3.42011495e-03],\n",
       "       [ 1.00000000e+00, -2.79140000e+00,  7.79191396e+00,\n",
       "        -2.17503486e+01,  6.07139232e+01],\n",
       "       [ 1.00000000e+00,  1.08176000e+00,  1.17020470e+00,\n",
       "         1.26588063e+00,  1.36937903e+00],\n",
       "       [ 1.00000000e+00,  2.81555000e+00,  7.92732180e+00,\n",
       "         2.23197709e+01,  6.28424310e+01],\n",
       "       [ 1.00000000e+00,  5.49240000e-01,  3.01664578e-01,\n",
       "         1.65686253e-01,  9.10015174e-02],\n",
       "       [ 1.00000000e+00,  2.36449000e+00,  5.59081296e+00,\n",
       "         1.32194213e+01,  3.12571896e+01],\n",
       "       [ 1.00000000e+00, -1.01925000e+00,  1.03887056e+00,\n",
       "        -1.05886882e+00,  1.07925205e+00]])"
      ]
     },
     "execution_count": 16,
     "metadata": {},
     "output_type": "execute_result"
    }
   ],
   "source": [
    "X_poly = poly_feat.fit_transform(X)    # Degree 4 : 4 variables\n",
    "X_poly"
   ]
  },
  {
   "cell_type": "code",
   "execution_count": 18,
   "id": "9c8c9120",
   "metadata": {},
   "outputs": [
    {
     "data": {
      "text/html": [
       "<div>\n",
       "<style scoped>\n",
       "    .dataframe tbody tr th:only-of-type {\n",
       "        vertical-align: middle;\n",
       "    }\n",
       "\n",
       "    .dataframe tbody tr th {\n",
       "        vertical-align: top;\n",
       "    }\n",
       "\n",
       "    .dataframe thead th {\n",
       "        text-align: right;\n",
       "    }\n",
       "</style>\n",
       "<table border=\"1\" class=\"dataframe\">\n",
       "  <thead>\n",
       "    <tr style=\"text-align: right;\">\n",
       "      <th></th>\n",
       "      <th>0</th>\n",
       "      <th>1</th>\n",
       "      <th>2</th>\n",
       "      <th>3</th>\n",
       "      <th>4</th>\n",
       "    </tr>\n",
       "  </thead>\n",
       "  <tbody>\n",
       "    <tr>\n",
       "      <th>0</th>\n",
       "      <td>1.0</td>\n",
       "      <td>-0.33532</td>\n",
       "      <td>0.112440</td>\n",
       "      <td>-0.037703</td>\n",
       "      <td>1.264264e-02</td>\n",
       "    </tr>\n",
       "    <tr>\n",
       "      <th>1</th>\n",
       "      <td>1.0</td>\n",
       "      <td>0.02160</td>\n",
       "      <td>0.000467</td>\n",
       "      <td>0.000010</td>\n",
       "      <td>2.176782e-07</td>\n",
       "    </tr>\n",
       "    <tr>\n",
       "      <th>2</th>\n",
       "      <td>1.0</td>\n",
       "      <td>-1.19438</td>\n",
       "      <td>1.426544</td>\n",
       "      <td>-1.703835</td>\n",
       "      <td>2.035027e+00</td>\n",
       "    </tr>\n",
       "    <tr>\n",
       "      <th>3</th>\n",
       "      <td>1.0</td>\n",
       "      <td>-0.65046</td>\n",
       "      <td>0.423098</td>\n",
       "      <td>-0.275208</td>\n",
       "      <td>1.790121e-01</td>\n",
       "    </tr>\n",
       "    <tr>\n",
       "      <th>4</th>\n",
       "      <td>1.0</td>\n",
       "      <td>-0.28001</td>\n",
       "      <td>0.078406</td>\n",
       "      <td>-0.021954</td>\n",
       "      <td>6.147438e-03</td>\n",
       "    </tr>\n",
       "    <tr>\n",
       "      <th>5</th>\n",
       "      <td>1.0</td>\n",
       "      <td>1.93258</td>\n",
       "      <td>3.734865</td>\n",
       "      <td>7.217926</td>\n",
       "      <td>1.394922e+01</td>\n",
       "    </tr>\n",
       "    <tr>\n",
       "      <th>6</th>\n",
       "      <td>1.0</td>\n",
       "      <td>1.22620</td>\n",
       "      <td>1.503566</td>\n",
       "      <td>1.843673</td>\n",
       "      <td>2.260712e+00</td>\n",
       "    </tr>\n",
       "    <tr>\n",
       "      <th>7</th>\n",
       "      <td>1.0</td>\n",
       "      <td>0.74727</td>\n",
       "      <td>0.558412</td>\n",
       "      <td>0.417285</td>\n",
       "      <td>3.118245e-01</td>\n",
       "    </tr>\n",
       "    <tr>\n",
       "      <th>8</th>\n",
       "      <td>1.0</td>\n",
       "      <td>3.32853</td>\n",
       "      <td>11.079112</td>\n",
       "      <td>36.877157</td>\n",
       "      <td>1.227467e+02</td>\n",
       "    </tr>\n",
       "    <tr>\n",
       "      <th>9</th>\n",
       "      <td>1.0</td>\n",
       "      <td>2.87457</td>\n",
       "      <td>8.263153</td>\n",
       "      <td>23.753011</td>\n",
       "      <td>6.827969e+01</td>\n",
       "    </tr>\n",
       "    <tr>\n",
       "      <th>10</th>\n",
       "      <td>1.0</td>\n",
       "      <td>-1.48662</td>\n",
       "      <td>2.210039</td>\n",
       "      <td>-3.285488</td>\n",
       "      <td>4.884272e+00</td>\n",
       "    </tr>\n",
       "    <tr>\n",
       "      <th>11</th>\n",
       "      <td>1.0</td>\n",
       "      <td>0.37629</td>\n",
       "      <td>0.141594</td>\n",
       "      <td>0.053280</td>\n",
       "      <td>2.004891e-02</td>\n",
       "    </tr>\n",
       "    <tr>\n",
       "      <th>12</th>\n",
       "      <td>1.0</td>\n",
       "      <td>1.43918</td>\n",
       "      <td>2.071239</td>\n",
       "      <td>2.980886</td>\n",
       "      <td>4.290031e+00</td>\n",
       "    </tr>\n",
       "    <tr>\n",
       "      <th>13</th>\n",
       "      <td>1.0</td>\n",
       "      <td>0.24183</td>\n",
       "      <td>0.058482</td>\n",
       "      <td>0.014143</td>\n",
       "      <td>3.420115e-03</td>\n",
       "    </tr>\n",
       "    <tr>\n",
       "      <th>14</th>\n",
       "      <td>1.0</td>\n",
       "      <td>-2.79140</td>\n",
       "      <td>7.791914</td>\n",
       "      <td>-21.750349</td>\n",
       "      <td>6.071392e+01</td>\n",
       "    </tr>\n",
       "    <tr>\n",
       "      <th>15</th>\n",
       "      <td>1.0</td>\n",
       "      <td>1.08176</td>\n",
       "      <td>1.170205</td>\n",
       "      <td>1.265881</td>\n",
       "      <td>1.369379e+00</td>\n",
       "    </tr>\n",
       "    <tr>\n",
       "      <th>16</th>\n",
       "      <td>1.0</td>\n",
       "      <td>2.81555</td>\n",
       "      <td>7.927322</td>\n",
       "      <td>22.319771</td>\n",
       "      <td>6.284243e+01</td>\n",
       "    </tr>\n",
       "    <tr>\n",
       "      <th>17</th>\n",
       "      <td>1.0</td>\n",
       "      <td>0.54924</td>\n",
       "      <td>0.301665</td>\n",
       "      <td>0.165686</td>\n",
       "      <td>9.100152e-02</td>\n",
       "    </tr>\n",
       "    <tr>\n",
       "      <th>18</th>\n",
       "      <td>1.0</td>\n",
       "      <td>2.36449</td>\n",
       "      <td>5.590813</td>\n",
       "      <td>13.219421</td>\n",
       "      <td>3.125719e+01</td>\n",
       "    </tr>\n",
       "    <tr>\n",
       "      <th>19</th>\n",
       "      <td>1.0</td>\n",
       "      <td>-1.01925</td>\n",
       "      <td>1.038871</td>\n",
       "      <td>-1.058869</td>\n",
       "      <td>1.079252e+00</td>\n",
       "    </tr>\n",
       "  </tbody>\n",
       "</table>\n",
       "</div>"
      ],
      "text/plain": [
       "      0        1          2          3             4\n",
       "0   1.0 -0.33532   0.112440  -0.037703  1.264264e-02\n",
       "1   1.0  0.02160   0.000467   0.000010  2.176782e-07\n",
       "2   1.0 -1.19438   1.426544  -1.703835  2.035027e+00\n",
       "3   1.0 -0.65046   0.423098  -0.275208  1.790121e-01\n",
       "4   1.0 -0.28001   0.078406  -0.021954  6.147438e-03\n",
       "5   1.0  1.93258   3.734865   7.217926  1.394922e+01\n",
       "6   1.0  1.22620   1.503566   1.843673  2.260712e+00\n",
       "7   1.0  0.74727   0.558412   0.417285  3.118245e-01\n",
       "8   1.0  3.32853  11.079112  36.877157  1.227467e+02\n",
       "9   1.0  2.87457   8.263153  23.753011  6.827969e+01\n",
       "10  1.0 -1.48662   2.210039  -3.285488  4.884272e+00\n",
       "11  1.0  0.37629   0.141594   0.053280  2.004891e-02\n",
       "12  1.0  1.43918   2.071239   2.980886  4.290031e+00\n",
       "13  1.0  0.24183   0.058482   0.014143  3.420115e-03\n",
       "14  1.0 -2.79140   7.791914 -21.750349  6.071392e+01\n",
       "15  1.0  1.08176   1.170205   1.265881  1.369379e+00\n",
       "16  1.0  2.81555   7.927322  22.319771  6.284243e+01\n",
       "17  1.0  0.54924   0.301665   0.165686  9.100152e-02\n",
       "18  1.0  2.36449   5.590813  13.219421  3.125719e+01\n",
       "19  1.0 -1.01925   1.038871  -1.058869  1.079252e+00"
      ]
     },
     "execution_count": 18,
     "metadata": {},
     "output_type": "execute_result"
    }
   ],
   "source": [
    "pd.DataFrame(X_poly)"
   ]
  },
  {
   "cell_type": "code",
   "execution_count": 9,
   "id": "ae791572",
   "metadata": {},
   "outputs": [],
   "source": [
    "# Make and fit the polynomial regression model\n",
    "# TODO: Create a LinearRegression object and fit it to the polynomial predictor\n",
    "# features\n",
    "\n",
    "poly_model = LinearRegression(fit_intercept = False).fit(X_poly, y)"
   ]
  },
  {
   "cell_type": "code",
   "execution_count": 10,
   "id": "b916c89d",
   "metadata": {},
   "outputs": [],
   "source": [
    "# TODO: Add import statements\n",
    "import numpy as np\n",
    "import pandas as pd\n",
    "from sklearn.linear_model import LinearRegression\n",
    "from sklearn.preprocessing import PolynomialFeatures\n",
    "\n",
    "# Assign the data to predictor and outcome variables\n",
    "# TODO: Load the data\n",
    "train_data = pd.read_csv('data_polynomial.csv')\n",
    "X = train_data['Var_X'].values.reshape(-1, 1)\n",
    "y = train_data['Var_Y'].values\n",
    "\n",
    "# Create polynomial features\n",
    "# TODO: Create a PolynomialFeatures object, then fit and transform the\n",
    "# predictor feature\n",
    "poly_feat = PolynomialFeatures(degree = 4)\n",
    "X_poly = poly_feat.fit_transform(X)\n",
    "\n",
    "# Make and fit the polynomial regression model\n",
    "# TODO: Create a LinearRegression object and fit it to the polynomial predictor\n",
    "# features\n",
    "poly_model = LinearRegression(fit_intercept = False).fit(X_poly, y)"
   ]
  },
  {
   "cell_type": "code",
   "execution_count": 11,
   "id": "52992f91",
   "metadata": {},
   "outputs": [
    {
     "data": {
      "text/plain": [
       "LinearRegression(fit_intercept=False)"
      ]
     },
     "execution_count": 11,
     "metadata": {},
     "output_type": "execute_result"
    }
   ],
   "source": [
    "poly_model"
   ]
  },
  {
   "cell_type": "code",
   "execution_count": 12,
   "id": "15e923cd",
   "metadata": {},
   "outputs": [
    {
     "data": {
      "text/plain": [
       "array([4.33040859])"
      ]
     },
     "execution_count": 12,
     "metadata": {},
     "output_type": "execute_result"
    }
   ],
   "source": [
    "prediction = poly_model.predict([[ 1.00000000e+00, -2.35320000e-01,  2.12439502e-01,\n",
    "        -3.77032139e-02,  1.26426417e-02]])\n",
    "prediction"
   ]
  },
  {
   "cell_type": "code",
   "execution_count": null,
   "id": "0c1c23ce",
   "metadata": {},
   "outputs": [],
   "source": []
  }
 ],
 "metadata": {
  "hide_input": false,
  "kernelspec": {
   "display_name": "Python 3 (ipykernel)",
   "language": "python",
   "name": "python3"
  },
  "language_info": {
   "codemirror_mode": {
    "name": "ipython",
    "version": 3
   },
   "file_extension": ".py",
   "mimetype": "text/x-python",
   "name": "python",
   "nbconvert_exporter": "python",
   "pygments_lexer": "ipython3",
   "version": "3.8.12"
  },
  "toc": {
   "base_numbering": 1,
   "nav_menu": {},
   "number_sections": true,
   "sideBar": true,
   "skip_h1_title": false,
   "title_cell": "Table of Contents",
   "title_sidebar": "Contents",
   "toc_cell": false,
   "toc_position": {},
   "toc_section_display": true,
   "toc_window_display": false
  },
  "varInspector": {
   "cols": {
    "lenName": 16,
    "lenType": 16,
    "lenVar": 40
   },
   "kernels_config": {
    "python": {
     "delete_cmd_postfix": "",
     "delete_cmd_prefix": "del ",
     "library": "var_list.py",
     "varRefreshCmd": "print(var_dic_list())"
    },
    "r": {
     "delete_cmd_postfix": ") ",
     "delete_cmd_prefix": "rm(",
     "library": "var_list.r",
     "varRefreshCmd": "cat(var_dic_list()) "
    }
   },
   "types_to_exclude": [
    "module",
    "function",
    "builtin_function_or_method",
    "instance",
    "_Feature"
   ],
   "window_display": false
  }
 },
 "nbformat": 4,
 "nbformat_minor": 5
}
